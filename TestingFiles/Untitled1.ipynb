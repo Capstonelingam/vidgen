{
 "cells": [
  {
   "cell_type": "code",
   "execution_count": 1,
   "id": "dd684417",
   "metadata": {},
   "outputs": [
    {
     "data": {
      "text/plain": [
       "['A cartoon elephant in a tesla in space d0df6cb6.mp4',\n",
       " 'Honeybee flying into dustbin 740f2796.mp4',\n",
       " 'Sun being wrapped by a towel .Anime style 49418604.mp4',\n",
       " 'An illustration of a girl with curly hair and blue eyes drinking tea eee460f4.mp4',\n",
       " 'test.mp4',\n",
       " 'A girl with curly hair and blue eyes drinking tea anime style,hi-res,art ed01ccad.mp4',\n",
       " 'Sun being wrapped by a towel .Anime style 3922d4ba.mp4',\n",
       " 'A girl with curly hair and blue eyes drinking tea anime style,hi-res,art f9ecd882.mp4',\n",
       " 'A single cat shooting a gun b0afdbde.mp4',\n",
       " 'Capybara surfing on water b9d4a55d.mp4',\n",
       " 'A girl with curly hair and blue eyes drinking tea anime style,hi-res,art 6d5d535d.mp4',\n",
       " 'A girl with curly hair and blue eyes drinking tea anime style,hi-res,art 980f2bbb.mp4',\n",
       " 'Honeybee flying into dustbin 92068053.mp4',\n",
       " 'A chicken crossing the road .Anime style cbd2b003.mp4',\n",
       " 'A chicken crossing the road .Anime style 110156a9.mp4',\n",
       " 'Sun being wrapped by a towel .Anime style 7a96977e.mp4']"
      ]
     },
     "execution_count": 1,
     "metadata": {},
     "output_type": "execute_result"
    }
   ],
   "source": [
    "import os\n",
    "path='./output'\n",
    "\n",
    "os.listdir(path)"
   ]
  },
  {
   "cell_type": "code",
   "execution_count": 2,
   "id": "19451bfe",
   "metadata": {},
   "outputs": [
    {
     "data": {
      "text/html": [
       "<video src=\"./output/Honeybee flying into dustbin 92068053.mp4\" controls  >\n",
       "      Your browser does not support the <code>video</code> element.\n",
       "    </video>"
      ],
      "text/plain": [
       "<IPython.core.display.Video object>"
      ]
     },
     "execution_count": 2,
     "metadata": {},
     "output_type": "execute_result"
    }
   ],
   "source": [
    "from IPython.display import Video\n",
    "\n",
    "Video('./output/Honeybee flying into dustbin 92068053.mp4')"
   ]
  },
  {
   "cell_type": "code",
   "execution_count": null,
   "id": "7f8ab34b",
   "metadata": {},
   "outputs": [],
   "source": [
    "##changed this file again"
   ]
  }
 ],
 "metadata": {
  "kernelspec": {
   "display_name": "Python 3 (ipykernel)",
   "language": "python",
   "name": "python3"
  },
  "language_info": {
   "codemirror_mode": {
    "name": "ipython",
    "version": 3
   },
   "file_extension": ".py",
   "mimetype": "text/x-python",
   "name": "python",
   "nbconvert_exporter": "python",
   "pygments_lexer": "ipython3",
   "version": "3.10.12"
  }
 },
 "nbformat": 4,
 "nbformat_minor": 5
}
