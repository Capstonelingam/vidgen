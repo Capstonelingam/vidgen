{
 "cells": [
  {
   "cell_type": "code",
   "execution_count": 2,
   "id": "dd684417",
   "metadata": {},
   "outputs": [
    {
     "data": {
      "text/plain": [
       "['Honeybee flying into dustbin 92068053.mp4']"
      ]
     },
     "execution_count": 2,
     "metadata": {},
     "output_type": "execute_result"
    }
   ],
   "source": [
    "import os\n",
    "path='./output'\n",
    "\n",
    "os.listdir(path)"
   ]
  },
  {
   "cell_type": "code",
   "execution_count": 4,
   "id": "19451bfe",
   "metadata": {},
   "outputs": [
    {
     "data": {
      "text/html": [
       "<video src=\"./output/Honeybee flying into dustbin 92068053.mp4\" controls  >\n",
       "      Your browser does not support the <code>video</code> element.\n",
       "    </video>"
      ],
      "text/plain": [
       "<IPython.core.display.Video object>"
      ]
     },
     "execution_count": 4,
     "metadata": {},
     "output_type": "execute_result"
    }
   ],
   "source": [
    "from IPython.display import Video\n",
    "\n",
    "Video('./output/Honeybee flying into dustbin 92068053.mp4')"
   ]
  },
  {
   "cell_type": "code",
   "execution_count": null,
   "id": "7f8ab34b",
   "metadata": {},
   "outputs": [],
   "source": [
    "##changed this file again"
   ]
  }
 ],
 "metadata": {
  "kernelspec": {
   "display_name": "Python 3 (ipykernel)",
   "language": "python",
   "name": "python3"
  },
  "language_info": {
   "codemirror_mode": {
    "name": "ipython",
    "version": 3
   },
   "file_extension": ".py",
   "mimetype": "text/x-python",
   "name": "python",
   "nbconvert_exporter": "python",
   "pygments_lexer": "ipython3",
   "version": "3.10.12"
  }
 },
 "nbformat": 4,
 "nbformat_minor": 5
}
