{
 "cells": [
  {
   "cell_type": "code",
   "execution_count": 1,
   "metadata": {},
   "outputs": [
    {
     "name": "stderr",
     "output_type": "stream",
     "text": [
      "2023-08-28 08:04:47.727507: I tensorflow/core/util/port.cc:110] oneDNN custom operations are on. You may see slightly different numerical results due to floating-point round-off errors from different computation orders. To turn them off, set the environment variable `TF_ENABLE_ONEDNN_OPTS=0`.\n",
      "2023-08-28 08:04:47.751615: I tensorflow/core/platform/cpu_feature_guard.cc:182] This TensorFlow binary is optimized to use available CPU instructions in performance-critical operations.\n",
      "To enable the following instructions: AVX2 AVX_VNNI FMA, in other operations, rebuild TensorFlow with the appropriate compiler flags.\n",
      "2023-08-28 08:04:48.065380: W tensorflow/compiler/tf2tensorrt/utils/py_utils.cc:38] TF-TRT Warning: Could not find TensorRT\n"
     ]
    },
    {
     "name": "stdout",
     "output_type": "stream",
     "text": [
      "Initializing the conversion map\n"
     ]
    }
   ],
   "source": [
    "from script_to_video_pipeline import ScriptToVideoPipeline"
   ]
  },
  {
   "cell_type": "code",
   "execution_count": 2,
   "metadata": {},
   "outputs": [],
   "source": [
    "script=\"Test Script\"\n",
    "model_path=\"cerspense/zeroscope_v2_576w\""
   ]
  },
  {
   "cell_type": "code",
   "execution_count": 3,
   "metadata": {},
   "outputs": [],
   "source": [
    "pipeline=ScriptToVideoPipeline(script,model_path)\n"
   ]
  },
  {
   "cell_type": "code",
   "execution_count": 4,
   "metadata": {},
   "outputs": [
    {
     "data": {
      "application/vnd.jupyter.widget-view+json": {
       "model_id": "19459883abec4b758ac08b35133c9714",
       "version_major": 2,
       "version_minor": 0
      },
      "text/plain": [
       "Loading pipeline components...:   0%|          | 0/5 [00:00<?, ?it/s]"
      ]
     },
     "metadata": {},
     "output_type": "display_data"
    },
    {
     "ename": "TypeError",
     "evalue": "'<' not supported between instances of 'NoneType' and 'int'",
     "output_type": "error",
     "traceback": [
      "\u001b[0;31m---------------------------------------------------------------------------\u001b[0m",
      "\u001b[0;31mTypeError\u001b[0m                                 Traceback (most recent call last)",
      "Cell \u001b[0;32mIn[4], line 1\u001b[0m\n\u001b[0;32m----> 1\u001b[0m pipeline\u001b[39m.\u001b[39;49mrun()\n",
      "File \u001b[0;32m~/vidgen/script_to_video_pipeline.py:143\u001b[0m, in \u001b[0;36mScriptToVideoPipeline.run\u001b[0;34m(self)\u001b[0m\n\u001b[1;32m    133\u001b[0m \u001b[39mdef\u001b[39;00m \u001b[39mrun\u001b[39m(\u001b[39mself\u001b[39m):\n\u001b[1;32m    134\u001b[0m     \n\u001b[1;32m    135\u001b[0m     \u001b[39m#model = \"cerspense/zeroscope_v2_576w\" default\u001b[39;00m\n\u001b[0;32m   (...)\u001b[0m\n\u001b[1;32m    139\u001b[0m \n\u001b[1;32m    140\u001b[0m     \u001b[39m#sceneList = self.prepare_inputs_for_vidgen(self.script)\u001b[39;00m\n\u001b[1;32m    141\u001b[0m     prepped_script \u001b[39m=\u001b[39m [\u001b[39m'\u001b[39m\u001b[39m<james> standing\u001b[39m\u001b[39m'\u001b[39m, \u001b[39m'\u001b[39m\u001b[39m<james sitting>\u001b[39m\u001b[39m'\u001b[39m,\n\u001b[1;32m    142\u001b[0m                       \u001b[39m'\u001b[39m\u001b[39m<james> walking\u001b[39m\u001b[39m'\u001b[39m, \u001b[39m'\u001b[39m\u001b[39m<james> running\u001b[39m\u001b[39m'\u001b[39m]\n\u001b[0;32m--> 143\u001b[0m     \u001b[39mself\u001b[39;49m\u001b[39m.\u001b[39;49mgenerate_video(prepped_script, model\u001b[39m=\u001b[39;49m\u001b[39mself\u001b[39;49m\u001b[39m.\u001b[39;49mmodel_path, init_video\u001b[39m=\u001b[39;49m\u001b[39mNone\u001b[39;49;00m, seed\u001b[39m=\u001b[39;49m\u001b[39m6969\u001b[39;49m, custom_pipeline\u001b[39m=\u001b[39;49m\u001b[39mFalse\u001b[39;49;00m)\n",
      "File \u001b[0;32m~/vidgen/script_to_video_pipeline.py:97\u001b[0m, in \u001b[0;36mScriptToVideoPipeline.generate_video\u001b[0;34m(self, sceneList, model, negative_prompt, width, height, num_frames, window_size, vae_batch_size, num_steps, guidance_scale, init_video, init_weight, device, xformers, sdp, lora_path, lora_rank, loop, seed, custom_pipeline, custom_pipeline_path, use_previous_video, fps)\u001b[0m\n\u001b[1;32m     94\u001b[0m \u001b[39mfor\u001b[39;00m scene_num,scene \u001b[39min\u001b[39;00m \u001b[39menumerate\u001b[39m(sceneList):\n\u001b[1;32m     95\u001b[0m     output_path\u001b[39m=\u001b[39m\u001b[39mf\u001b[39m\u001b[39m\"\u001b[39m\u001b[39m{\u001b[39;00mscene_num\u001b[39m}\u001b[39;00m\u001b[39m_\u001b[39m\u001b[39m{\u001b[39;00mscene\u001b[39m}\u001b[39;00m\u001b[39m.mp4\u001b[39m\u001b[39m\"\u001b[39m\n\u001b[0;32m---> 97\u001b[0m     video \u001b[39m=\u001b[39m inference(\n\u001b[1;32m     98\u001b[0m         model\u001b[39m=\u001b[39;49mmodel,\n\u001b[1;32m     99\u001b[0m         prompt\u001b[39m=\u001b[39;49mscene,\n\u001b[1;32m    100\u001b[0m         negative_prompt\u001b[39m=\u001b[39;49mnegative_prompt,\n\u001b[1;32m    101\u001b[0m         width\u001b[39m=\u001b[39;49mwidth,\n\u001b[1;32m    102\u001b[0m         height\u001b[39m=\u001b[39;49mheight,\n\u001b[1;32m    103\u001b[0m         num_frames\u001b[39m=\u001b[39;49mnum_frames,\n\u001b[1;32m    104\u001b[0m         window_size\u001b[39m=\u001b[39;49mwindow_size,\n\u001b[1;32m    105\u001b[0m         vae_batch_size\u001b[39m=\u001b[39;49mvae_batch_size,\n\u001b[1;32m    106\u001b[0m         num_steps\u001b[39m=\u001b[39;49mnum_steps,\n\u001b[1;32m    107\u001b[0m         guidance_scale\u001b[39m=\u001b[39;49mguidance_scale,\n\u001b[1;32m    108\u001b[0m         init_video\u001b[39m=\u001b[39;49minit_video,\n\u001b[1;32m    109\u001b[0m         init_weight\u001b[39m=\u001b[39;49minit_weight,\n\u001b[1;32m    110\u001b[0m         device\u001b[39m=\u001b[39;49mdevice,\n\u001b[1;32m    111\u001b[0m         xformers\u001b[39m=\u001b[39;49mxformers,\n\u001b[1;32m    112\u001b[0m         sdp\u001b[39m=\u001b[39;49msdp,\n\u001b[1;32m    113\u001b[0m         lora_path\u001b[39m=\u001b[39;49mlora_path,\n\u001b[1;32m    114\u001b[0m         lora_rank\u001b[39m=\u001b[39;49mlora_rank,\n\u001b[1;32m    115\u001b[0m         loop\u001b[39m=\u001b[39;49mloop,\n\u001b[1;32m    116\u001b[0m         custom_pipeline \u001b[39m=\u001b[39;49mcustom_pipeline,\n\u001b[1;32m    117\u001b[0m         custom_pipeline_path\u001b[39m=\u001b[39;49mcustom_pipeline_path\n\u001b[1;32m    118\u001b[0m     )\n\u001b[1;32m    121\u001b[0m     \u001b[39m#save the video\u001b[39;00m\n\u001b[1;32m    122\u001b[0m     \u001b[39mself\u001b[39m\u001b[39m.\u001b[39msave_video(video,fps, \u001b[39mf\u001b[39m\u001b[39m\"\u001b[39m\u001b[39m{\u001b[39;00moutput_folder\u001b[39m}\u001b[39;00m\u001b[39m/\u001b[39m\u001b[39m{\u001b[39;00moutput_path\u001b[39m}\u001b[39;00m\u001b[39m\"\u001b[39m, remove_watermark\u001b[39m=\u001b[39m\u001b[39mTrue\u001b[39;00m)\n",
      "File \u001b[0;32m~/.local/lib/python3.10/site-packages/torch/utils/_contextlib.py:115\u001b[0m, in \u001b[0;36mcontext_decorator.<locals>.decorate_context\u001b[0;34m(*args, **kwargs)\u001b[0m\n\u001b[1;32m    112\u001b[0m \u001b[39m@functools\u001b[39m\u001b[39m.\u001b[39mwraps(func)\n\u001b[1;32m    113\u001b[0m \u001b[39mdef\u001b[39;00m \u001b[39mdecorate_context\u001b[39m(\u001b[39m*\u001b[39margs, \u001b[39m*\u001b[39m\u001b[39m*\u001b[39mkwargs):\n\u001b[1;32m    114\u001b[0m     \u001b[39mwith\u001b[39;00m ctx_factory():\n\u001b[0;32m--> 115\u001b[0m         \u001b[39mreturn\u001b[39;00m func(\u001b[39m*\u001b[39;49margs, \u001b[39m*\u001b[39;49m\u001b[39m*\u001b[39;49mkwargs)\n",
      "File \u001b[0;32m~/vidgen/inference.py:313\u001b[0m, in \u001b[0;36minference\u001b[0;34m(model, prompt, negative_prompt, width, height, num_frames, window_size, vae_batch_size, num_steps, guidance_scale, init_video, init_weight, device, xformers, sdp, lora_path, lora_rank, loop, seed, custom_pipeline, custom_pipeline_path)\u001b[0m\n\u001b[1;32m    299\u001b[0m init_weight \u001b[39m=\u001b[39m init_weight \u001b[39mif\u001b[39;00m init_video \u001b[39mis\u001b[39;00m \u001b[39mnot\u001b[39;00m \u001b[39mNone\u001b[39;00m \u001b[39melse\u001b[39;00m \u001b[39m0\u001b[39m  \u001b[39m# ignore init_weight as there is no init_video!\u001b[39;00m\n\u001b[1;32m    301\u001b[0m \u001b[39m# run diffusion\u001b[39;00m\n\u001b[1;32m    302\u001b[0m latents \u001b[39m=\u001b[39m diffuse(\n\u001b[1;32m    303\u001b[0m     pipe\u001b[39m=\u001b[39mpipe,\n\u001b[1;32m    304\u001b[0m     latents\u001b[39m=\u001b[39minit_latents,\n\u001b[1;32m    305\u001b[0m     init_weight\u001b[39m=\u001b[39minit_weight,\n\u001b[1;32m    306\u001b[0m     prompt\u001b[39m=\u001b[39mprompt,\n\u001b[1;32m    307\u001b[0m     negative_prompt\u001b[39m=\u001b[39mnegative_prompt,\n\u001b[1;32m    308\u001b[0m     prompt_embeds\u001b[39m=\u001b[39mprompt_embeds,\n\u001b[1;32m    309\u001b[0m     negative_prompt_embeds\u001b[39m=\u001b[39mnegative_prompt_embeds,\n\u001b[1;32m    310\u001b[0m     num_inference_steps\u001b[39m=\u001b[39mnum_steps,\n\u001b[1;32m    311\u001b[0m     guidance_scale\u001b[39m=\u001b[39mguidance_scale,\n\u001b[1;32m    312\u001b[0m     window_size\u001b[39m=\u001b[39mwindow_size,\n\u001b[0;32m--> 313\u001b[0m     rotate\u001b[39m=\u001b[39mloop \u001b[39mor\u001b[39;00m window_size \u001b[39m<\u001b[39;49m num_frames,\n\u001b[1;32m    314\u001b[0m )\n\u001b[1;32m    316\u001b[0m \u001b[39m# decode latents to pixel space\u001b[39;00m\n\u001b[1;32m    317\u001b[0m videos \u001b[39m=\u001b[39m decode(pipe, latents, vae_batch_size)\n",
      "\u001b[0;31mTypeError\u001b[0m: '<' not supported between instances of 'NoneType' and 'int'"
     ]
    }
   ],
   "source": [
    "pipeline.run()"
   ]
  },
  {
   "cell_type": "code",
   "execution_count": null,
   "metadata": {},
   "outputs": [],
   "source": []
  }
 ],
 "metadata": {
  "kernelspec": {
   "display_name": "vidgen",
   "language": "python",
   "name": "python3"
  },
  "language_info": {
   "codemirror_mode": {
    "name": "ipython",
    "version": 3
   },
   "file_extension": ".py",
   "mimetype": "text/x-python",
   "name": "python",
   "nbconvert_exporter": "python",
   "pygments_lexer": "ipython3",
   "version": "3.10.12"
  },
  "orig_nbformat": 4
 },
 "nbformat": 4,
 "nbformat_minor": 2
}
