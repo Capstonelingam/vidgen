{
 "cells": [
  {
   "cell_type": "code",
   "execution_count": 6,
   "metadata": {},
   "outputs": [],
   "source": [
    "import torch\n",
    "import os\n",
    "import gc"
   ]
  },
  {
   "cell_type": "code",
   "execution_count": 7,
   "metadata": {},
   "outputs": [],
   "source": [
    "prompts=[\"Narendra Modi eating beef ribs , realistic , 4k\"\n",
    "]\n",
    "model=\"cerspense/zeroscope_v2_576w\"\n",
    "#model=\"strangeman3107/animov-512x\"\n",
    "\n",
    "custom_pipeline_path = \"sd-leap-booster/text-inversion-model/learned_embeds.bin\""
   ]
  },
  {
   "cell_type": "code",
   "execution_count": 3,
   "metadata": {},
   "outputs": [
    {
     "name": "stderr",
     "output_type": "stream",
     "text": [
      "2023-10-10 13:36:24.064094: I tensorflow/core/util/port.cc:110] oneDNN custom operations are on. You may see slightly different numerical results due to floating-point round-off errors from different computation orders. To turn them off, set the environment variable `TF_ENABLE_ONEDNN_OPTS=0`.\n",
      "2023-10-10 13:36:24.088105: I tensorflow/core/platform/cpu_feature_guard.cc:182] This TensorFlow binary is optimized to use available CPU instructions in performance-critical operations.\n",
      "To enable the following instructions: AVX2 AVX_VNNI FMA, in other operations, rebuild TensorFlow with the appropriate compiler flags.\n",
      "2023-10-10 13:36:24.443118: W tensorflow/compiler/tf2tensorrt/utils/py_utils.cc:38] TF-TRT Warning: Could not find TensorRT\n"
     ]
    },
    {
     "name": "stdout",
     "output_type": "stream",
     "text": [
      "Initializing the conversion map\n"
     ]
    },
    {
     "name": "stderr",
     "output_type": "stream",
     "text": [
      "Loading pipeline components...: 100%|██████████| 5/5 [00:00<00:00, 25668.94it/s]\n"
     ]
    },
    {
     "name": "stdout",
     "output_type": "stream",
     "text": [
      "33 Attention layers using Scaled Dot Product Attention.\n"
     ]
    },
    {
     "name": "stderr",
     "output_type": "stream",
     "text": [
      "Diffusing timestep 805...:  19%|█▉        | 97/500 [02:38<11:12,  1.67s/it]"
     ]
    }
   ],
   "source": [
    "for prompt in prompts:\n",
    "#run command\n",
    "    \n",
    "    torch.cuda.empty_cache() \n",
    "    gc.collect()\n",
    "    os.system(f'python inference.py \\\n",
    "        --model {model} \\\n",
    "        --prompt \"{prompt}\" \\\n",
    "        --num-frames 60 \\\n",
    "        --width 256 \\\n",
    "        --height 256 \\\n",
    "        --window-size 60 \\\n",
    "        --num-steps 500 \\\n",
    "        --custom_pipeline_path {custom_pipeline_path} \\\n",
    "        --custom_pipeline True \\\n",
    "        --fps 18 \\\n",
    "        --seed 420\\\n",
    "        -g 25 \\\n",
    "        --sdp\\\n",
    "        ')"
   ]
  },
  {
   "cell_type": "code",
   "execution_count": 8,
   "metadata": {},
   "outputs": [
    {
     "name": "stderr",
     "output_type": "stream",
     "text": [
      "2023-10-10 13:40:54.094872: I tensorflow/core/util/port.cc:110] oneDNN custom operations are on. You may see slightly different numerical results due to floating-point round-off errors from different computation orders. To turn them off, set the environment variable `TF_ENABLE_ONEDNN_OPTS=0`.\n",
      "2023-10-10 13:40:54.118094: I tensorflow/core/platform/cpu_feature_guard.cc:182] This TensorFlow binary is optimized to use available CPU instructions in performance-critical operations.\n",
      "To enable the following instructions: AVX2 AVX_VNNI FMA, in other operations, rebuild TensorFlow with the appropriate compiler flags.\n",
      "2023-10-10 13:40:54.478320: W tensorflow/compiler/tf2tensorrt/utils/py_utils.cc:38] TF-TRT Warning: Could not find TensorRT\n"
     ]
    },
    {
     "name": "stdout",
     "output_type": "stream",
     "text": [
      "Initializing the conversion map\n"
     ]
    },
    {
     "name": "stderr",
     "output_type": "stream",
     "text": [
      "Loading pipeline components...: 100%|██████████| 5/5 [00:00<00:00, 7767.23it/s]\n"
     ]
    },
    {
     "name": "stdout",
     "output_type": "stream",
     "text": [
      "33 Attention layers using Scaled Dot Product Attention.\n"
     ]
    },
    {
     "name": "stderr",
     "output_type": "stream",
     "text": [
      "Diffusing timestep 954...:   4%|▍         | 9/200 [00:50<17:45,  5.58s/it]Terminated\n"
     ]
    }
   ],
   "source": [
    "for prompt in prompts[-1:]:\n",
    "#run command\n",
    "    os.system(f'python inference.py \\\n",
    "        --model {model} \\\n",
    "        --prompt \"{prompt}\" \\\n",
    "        --num-frames 50 \\\n",
    "        --width 300 \\\n",
    "        --height 300 \\\n",
    "        --window-size 50 \\\n",
    "        --num-steps 200 \\\n",
    "        --custom_pipeline_path {custom_pipeline_path} \\\n",
    "        --custom_pipeline True \\\n",
    "        --fps 18 \\\n",
    "        --seed 420\\\n",
    "        --loop \\\n",
    "        -g 25\\\n",
    "        --sdp\\\n",
    "        --output--dir \"output\" \\\n",
    "        ')"
   ]
  }
 ],
 "metadata": {
  "kernelspec": {
   "display_name": "vidgen",
   "language": "python",
   "name": "python3"
  },
  "language_info": {
   "codemirror_mode": {
    "name": "ipython",
    "version": 3
   },
   "file_extension": ".py",
   "mimetype": "text/x-python",
   "name": "python",
   "nbconvert_exporter": "python",
   "pygments_lexer": "ipython3",
   "version": "3.10.12"
  },
  "orig_nbformat": 4
 },
 "nbformat": 4,
 "nbformat_minor": 2
}
