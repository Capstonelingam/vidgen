{
 "cells": [
  {
   "cell_type": "code",
   "execution_count": null,
   "id": "db9ef2fe",
   "metadata": {},
   "outputs": [],
   "source": [
    "from transformers import AutoTokenizer, AutoModelForCausalLM, BitsAndBytesConfig, pipeline\n",
    "import transformers\n",
    "import torch\n",
    "from torch.utils.data import DataLoader, Dataset\n",
    "import torch\n",
    "from transformers import AutoTokenizer, TextStreamer\n",
    "import pandas as pd"
   ]
  },
  {
   "cell_type": "markdown",
   "id": "e308b81e",
   "metadata": {},
   "source": [
    "# Load Quantized Model w/ PEFT"
   ]
  },
  {
   "cell_type": "code",
   "execution_count": null,
   "id": "fcf3824c",
   "metadata": {},
   "outputs": [],
   "source": [
    "model_id = \"Trelis/Llama-2-7b-chat-hf-sharded-bf16-5GB\" # sharded model by vilsonrodrigues\n",
    "bnb_config = BitsAndBytesConfig(\n",
    "    load_in_4bit=True,\n",
    "    bnb_4bit_use_double_quant=True,\n",
    "    bnb_4bit_quant_type=\"nf4\",\n",
    "    bnb_4bit_compute_dtype=torch.bfloat16\n",
    ")\n",
    "\n",
    "tokenizer = AutoTokenizer.from_pretrained(model_id)\n",
    "tokenizer.pad_token = tokenizer.eos_token\n",
    "model = AutoModelForCausalLM.from_pretrained(model_id, quantization_config=bnb_config, device_map={\"\":0}, trust_remote_code=True)"
   ]
  },
  {
   "cell_type": "code",
   "execution_count": null,
   "id": "e4d82b94",
   "metadata": {},
   "outputs": [],
   "source": [
    "from peft import prepare_model_for_kbit_training\n",
    "\n",
    "model.gradient_checkpointing_enable()\n",
    "model = prepare_model_for_kbit_training(model)"
   ]
  },
  {
   "cell_type": "code",
   "execution_count": null,
   "id": "be62a732",
   "metadata": {},
   "outputs": [],
   "source": [
    "def print_trainable_parameters(model):\n",
    "    \"\"\"\n",
    "    Prints the number of trainable parameters in the model.\n",
    "    \"\"\"\n",
    "    trainable_params = 0\n",
    "    all_param = 0\n",
    "    for _, param in model.named_parameters():\n",
    "        all_param += param.numel()\n",
    "        if param.requires_grad:\n",
    "            trainable_params += param.numel()\n",
    "    print(\n",
    "        f\"trainable params: {trainable_params} || all params: {all_param} || trainable%: {100 * trainable_params / all_param}\"\n",
    "    )"
   ]
  },
  {
   "cell_type": "code",
   "execution_count": null,
   "id": "cb8ff895",
   "metadata": {},
   "outputs": [],
   "source": [
    "from peft import LoraConfig, get_peft_model\n",
    "\n",
    "config = LoraConfig(\n",
    "    r=16,\n",
    "    lora_alpha=32,\n",
    "    target_modules=[\"query_key_value\"],\n",
    "    lora_dropout=0.05,\n",
    "    bias=\"none\",\n",
    "    task_type=\"CAUSAL_LM\"\n",
    ")\n",
    "\n",
    "model = get_peft_model(model, config)\n",
    "print_trainable_parameters(model)"
   ]
  },
  {
   "cell_type": "markdown",
   "id": "c6dd2853",
   "metadata": {},
   "source": [
    "# Load Dataset + Splitting (Train,Val)"
   ]
  },
  {
   "cell_type": "markdown",
   "id": "66380d44",
   "metadata": {},
   "source": [
    "# Tokenize Dataset"
   ]
  },
  {
   "cell_type": "code",
   "execution_count": null,
   "id": "c8a4f552",
   "metadata": {},
   "outputs": [],
   "source": [
    "train_encodings = tokenizer(train_dataset, truncation=True, padding=True, max_length=300, return_tensors='pt')\n",
    "val_encodings = tokenizer(val_dataset, truncation=True, padding=True, max_length=300, return_tensors='pt')"
   ]
  },
  {
   "cell_type": "markdown",
   "id": "57170de7",
   "metadata": {},
   "source": [
    "# Convert to PyTorch"
   ]
  },
  {
   "cell_type": "code",
   "execution_count": null,
   "id": "48eed75f",
   "metadata": {},
   "outputs": [],
   "source": [
    "class TextDataset(Dataset):\n",
    "    def __init__(self, encodings):\n",
    "        self.encodings = encodings\n",
    "\n",
    "    def __getitem__(self, idx):\n",
    "        item = {key: torch.tensor(val[idx]) for key, val in self.encodings.items()}\n",
    "        item[\"labels\"] = item[\"input_ids\"].clone()\n",
    "        return item\n",
    "\n",
    "    def __len__(self):\n",
    "        return len(self.encodings[\"input_ids\"])"
   ]
  },
  {
   "cell_type": "code",
   "execution_count": null,
   "id": "a70aecc0",
   "metadata": {},
   "outputs": [],
   "source": [
    "train_dataset = TextDataset(train_encodings)\n",
    "val_dataset = TextDataset(val_encodings)"
   ]
  },
  {
   "cell_type": "markdown",
   "id": "c181471d",
   "metadata": {},
   "source": [
    "# Define A Generate Function"
   ]
  },
  {
   "cell_type": "code",
   "execution_count": null,
   "id": "da9896db",
   "metadata": {},
   "outputs": [],
   "source": [
    "def generate(input):\n",
    "    encoding = tokenizer(input, return_tensors=\"pt\").to(\"cuda:0\")\n",
    "    streamer = TextStreamer(tokenizer, skip_prompt = True, skip_special_tokens= True)\n",
    "    model.generate(input_ids=encoding.input_ids, streamer = streamer,attention_mask=encoding.attention_mask, max_new_tokens=4096, do_sample=True, temperature=0.000001, eos_token_id=tokenizer.eos_token_id, top_k = 0)\n"
   ]
  },
  {
   "cell_type": "markdown",
   "id": "3e4ba55e",
   "metadata": {},
   "source": [
    "# Training"
   ]
  },
  {
   "cell_type": "code",
   "execution_count": null,
   "id": "46d73fba",
   "metadata": {},
   "outputs": [],
   "source": [
    "trainer = transformers.Trainer(\n",
    "    model=model,\n",
    "    train_dataset=train_dataset,\n",
    "    eval_dataset=val_dataset,\n",
    "    args=transformers.TrainingArguments(\n",
    "        num_train_epochs=10,\n",
    "        per_device_train_batch_size=16,\n",
    "        gradient_accumulation_steps=4,\n",
    "        warmup_ratio=0.05,\n",
    "        # max_steps=100,\n",
    "        learning_rate=2e-4,\n",
    "        fp16=True,\n",
    "        logging_steps=1,\n",
    "        output_dir=\"outputs\",\n",
    "        optim=\"paged_adamw_8bit\",\n",
    "        lr_scheduler_type='cosine',\n",
    "    ),\n",
    "    data_collator=transformers.DataCollatorForLanguageModeling(tokenizer, mlm=False),\n",
    ")\n",
    "model.config.use_cache = False  # silence the warnings. Please re-enable for inference!\n",
    "trainer.train()"
   ]
  },
  {
   "cell_type": "markdown",
   "id": "a0eac17d",
   "metadata": {},
   "source": [
    "# Save the LoRA"
   ]
  },
  {
   "cell_type": "code",
   "execution_count": null,
   "id": "a363c0ff",
   "metadata": {},
   "outputs": [],
   "source": [
    "model.save_pretrained(\"fine-tuned-llama7b-10epochs\")"
   ]
  }
 ],
 "metadata": {
  "kernelspec": {
   "display_name": "Python 3 (ipykernel)",
   "language": "python",
   "name": "python3"
  },
  "language_info": {
   "codemirror_mode": {
    "name": "ipython",
    "version": 3
   },
   "file_extension": ".py",
   "mimetype": "text/x-python",
   "name": "python",
   "nbconvert_exporter": "python",
   "pygments_lexer": "ipython3",
   "version": "3.11.4"
  }
 },
 "nbformat": 4,
 "nbformat_minor": 5
}
