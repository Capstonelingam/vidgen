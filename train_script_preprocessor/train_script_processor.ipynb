{
 "cells": [
  {
   "cell_type": "code",
   "execution_count": 1,
   "id": "db9ef2fe",
   "metadata": {},
   "outputs": [
    {
     "name": "stderr",
     "output_type": "stream",
     "text": [
      "2023-10-12 03:38:21.739624: I tensorflow/core/util/port.cc:110] oneDNN custom operations are on. You may see slightly different numerical results due to floating-point round-off errors from different computation orders. To turn them off, set the environment variable `TF_ENABLE_ONEDNN_OPTS=0`.\n",
      "2023-10-12 03:38:21.763189: I tensorflow/core/platform/cpu_feature_guard.cc:182] This TensorFlow binary is optimized to use available CPU instructions in performance-critical operations.\n",
      "To enable the following instructions: AVX2 AVX_VNNI FMA, in other operations, rebuild TensorFlow with the appropriate compiler flags.\n",
      "2023-10-12 03:38:22.110965: W tensorflow/compiler/tf2tensorrt/utils/py_utils.cc:38] TF-TRT Warning: Could not find TensorRT\n"
     ]
    }
   ],
   "source": [
    "from transformers import AutoTokenizer, AutoModelForCausalLM, BitsAndBytesConfig, pipeline\n",
    "import transformers\n",
    "import torch\n",
    "from torch.utils.data import DataLoader, Dataset\n",
    "import torch\n",
    "from transformers import AutoTokenizer, TextStreamer\n",
    "import pandas as pd"
   ]
  },
  {
   "cell_type": "markdown",
   "id": "e308b81e",
   "metadata": {},
   "source": [
    "# Load Quantized Model w/ PEFT"
   ]
  },
  {
   "cell_type": "code",
   "execution_count": 2,
   "id": "fcf3824c",
   "metadata": {},
   "outputs": [
    {
     "data": {
      "application/vnd.jupyter.widget-view+json": {
       "model_id": "efb893d304f1442fbe891f19fb06a388",
       "version_major": 2,
       "version_minor": 0
      },
      "text/plain": [
       "Loading checkpoint shards:   0%|          | 0/3 [00:00<?, ?it/s]"
      ]
     },
     "metadata": {},
     "output_type": "display_data"
    },
    {
     "name": "stderr",
     "output_type": "stream",
     "text": [
      "/home/slv/anaconda3/envs/vidgen/lib/python3.10/site-packages/transformers/generation/configuration_utils.py:362: UserWarning: `do_sample` is set to `False`. However, `temperature` is set to `0.9` -- this flag is only used in sample-based generation modes. You should set `do_sample=True` or unset `temperature`. This was detected when initializing the generation config instance, which means the corresponding file may hold incorrect parameterization and should be fixed.\n",
      "  warnings.warn(\n",
      "/home/slv/anaconda3/envs/vidgen/lib/python3.10/site-packages/transformers/generation/configuration_utils.py:367: UserWarning: `do_sample` is set to `False`. However, `top_p` is set to `0.6` -- this flag is only used in sample-based generation modes. You should set `do_sample=True` or unset `top_p`. This was detected when initializing the generation config instance, which means the corresponding file may hold incorrect parameterization and should be fixed.\n",
      "  warnings.warn(\n"
     ]
    }
   ],
   "source": [
    "model_id = \"Trelis/Llama-2-7b-chat-hf-sharded-bf16-5GB\" # sharded model by vilsonrodrigues\n",
    "bnb_config = BitsAndBytesConfig(\n",
    "    load_in_4bit=True,\n",
    "    bnb_4bit_use_double_quant=True,\n",
    "    bnb_4bit_quant_type=\"nf4\",\n",
    "    bnb_4bit_compute_dtype=torch.bfloat16\n",
    ")\n",
    "\n",
    "tokenizer = AutoTokenizer.from_pretrained(model_id)\n",
    "tokenizer.pad_token = tokenizer.eos_token\n",
    "model = AutoModelForCausalLM.from_pretrained(model_id, quantization_config=bnb_config, device_map={\"\":0}, trust_remote_code=True)"
   ]
  },
  {
   "cell_type": "code",
   "execution_count": 3,
   "id": "e4d82b94",
   "metadata": {},
   "outputs": [],
   "source": [
    "from peft import prepare_model_for_kbit_training\n",
    "\n",
    "model.gradient_checkpointing_enable()\n",
    "model = prepare_model_for_kbit_training(model)"
   ]
  },
  {
   "cell_type": "code",
   "execution_count": 4,
   "id": "be62a732",
   "metadata": {},
   "outputs": [],
   "source": [
    "def print_trainable_parameters(model):\n",
    "    \"\"\"\n",
    "    Prints the number of trainable parameters in the model.\n",
    "    \"\"\"\n",
    "    trainable_params = 0\n",
    "    all_param = 0\n",
    "    for _, param in model.named_parameters():\n",
    "        all_param += param.numel()\n",
    "        if param.requires_grad:\n",
    "            trainable_params += param.numel()\n",
    "    print(\n",
    "        f\"trainable params: {trainable_params} || all params: {all_param} || trainable%: {100 * trainable_params / all_param}\"\n",
    "    )"
   ]
  },
  {
   "cell_type": "code",
   "execution_count": 6,
   "id": "cb8ff895",
   "metadata": {},
   "outputs": [
    {
     "name": "stdout",
     "output_type": "stream",
     "text": [
      "trainable params: 39976960 || all params: 3540389888 || trainable%: 1.1291682911958425\n"
     ]
    }
   ],
   "source": [
    "from peft import LoraConfig, get_peft_model\n",
    "\n",
    "config = LoraConfig(\n",
    "    r=16,\n",
    "    lora_alpha=32,\n",
    "    target_modules=[\n",
    "    \"q_proj\",\n",
    "    \"up_proj\",\n",
    "    \"o_proj\",\n",
    "    \"k_proj\",\n",
    "    \"down_proj\",\n",
    "    \"gate_proj\",\n",
    "    \"v_proj\"],\n",
    "    lora_dropout=0.05,\n",
    "    bias=\"none\",\n",
    "    task_type=\"CAUSAL_LM\"\n",
    ")\n",
    "\n",
    "model = get_peft_model(model, config)\n",
    "print_trainable_parameters(model)"
   ]
  },
  {
   "cell_type": "markdown",
   "id": "c6dd2853",
   "metadata": {},
   "source": [
    "# Load Dataset + Splitting (Train,Val)\n",
    "# Load Dataset"
   ]
  },
  {
   "cell_type": "code",
   "execution_count": 8,
   "id": "1198e0f5",
   "metadata": {
    "scrolled": true
   },
   "outputs": [
    {
     "data": {
      "text/html": [
       "<div>\n",
       "<style scoped>\n",
       "    .dataframe tbody tr th:only-of-type {\n",
       "        vertical-align: middle;\n",
       "    }\n",
       "\n",
       "    .dataframe tbody tr th {\n",
       "        vertical-align: top;\n",
       "    }\n",
       "\n",
       "    .dataframe thead th {\n",
       "        text-align: right;\n",
       "    }\n",
       "</style>\n",
       "<table border=\"1\" class=\"dataframe\">\n",
       "  <thead>\n",
       "    <tr style=\"text-align: right;\">\n",
       "      <th></th>\n",
       "      <th>script</th>\n",
       "      <th>json</th>\n",
       "    </tr>\n",
       "  </thead>\n",
       "  <tbody>\n",
       "    <tr>\n",
       "      <th>0</th>\n",
       "      <td>Once, in a small coastal town named Cresthaven...</td>\n",
       "      <td>{\\n  \"Scene 1\": {\\n    \"Actions\": [\\n      \"In...</td>\n",
       "    </tr>\n",
       "    <tr>\n",
       "      <th>1</th>\n",
       "      <td>Title: \"The Chronicles of Lumina\"\\n\\nOnce upon...</td>\n",
       "      <td>\\n{\\n\\n    \"Scene 1\": {\"Actions\":[\"Seraphina w...</td>\n",
       "    </tr>\n",
       "    <tr>\n",
       "      <th>2</th>\n",
       "      <td>Title: \"The Forgotten Melody\"\\n\\nIn the heart ...</td>\n",
       "      <td>\\n{\\n\\n    \"Scene 1\": {\"Actions\":[\"Amelia ente...</td>\n",
       "    </tr>\n",
       "    <tr>\n",
       "      <th>3</th>\n",
       "      <td>Title: \"The Time Traveler's Dilemma\"\\n\\nIn the...</td>\n",
       "      <td>\\n{\\n\\n    \"Scene 1\": {\"Actions\":[\"Lucas finds...</td>\n",
       "    </tr>\n",
       "    <tr>\n",
       "      <th>4</th>\n",
       "      <td>Title: \"The Lighthouse Keeper's Promise\"\\n\\nTh...</td>\n",
       "      <td>\\n{\\n\\n    \"Scene 1\": {\"Actions\":[\"Waves crash...</td>\n",
       "    </tr>\n",
       "  </tbody>\n",
       "</table>\n",
       "</div>"
      ],
      "text/plain": [
       "                                              script  \\\n",
       "0  Once, in a small coastal town named Cresthaven...   \n",
       "1  Title: \"The Chronicles of Lumina\"\\n\\nOnce upon...   \n",
       "2  Title: \"The Forgotten Melody\"\\n\\nIn the heart ...   \n",
       "3  Title: \"The Time Traveler's Dilemma\"\\n\\nIn the...   \n",
       "4  Title: \"The Lighthouse Keeper's Promise\"\\n\\nTh...   \n",
       "\n",
       "                                                json  \n",
       "0  {\\n  \"Scene 1\": {\\n    \"Actions\": [\\n      \"In...  \n",
       "1  \\n{\\n\\n    \"Scene 1\": {\"Actions\":[\"Seraphina w...  \n",
       "2  \\n{\\n\\n    \"Scene 1\": {\"Actions\":[\"Amelia ente...  \n",
       "3  \\n{\\n\\n    \"Scene 1\": {\"Actions\":[\"Lucas finds...  \n",
       "4  \\n{\\n\\n    \"Scene 1\": {\"Actions\":[\"Waves crash...  "
      ]
     },
     "execution_count": 8,
     "metadata": {},
     "output_type": "execute_result"
    }
   ],
   "source": [
    "train_dataset = pd.read_excel('./jsonTrainDatasetFinal.xlsx')\n",
    "train_dataset.drop(train_dataset.columns[[0, 1]], axis=1, inplace=True)\n",
    "train_dataset.head()\n",
    "#df.head()"
   ]
  },
  {
   "cell_type": "code",
   "execution_count": 9,
   "id": "7ca6ff10",
   "metadata": {},
   "outputs": [],
   "source": [
    "train_dataset_list = []\n",
    "for i,row in train_dataset.iterrows():\n",
    "    story = row['script']\n",
    "    prompt = \"\"\"[INST]\n",
    "        <<SYS>>\\n You are a bot that reads a story and returns a JSON file containing the actions performed throughout the story along with the environmented they take place in divided by scene.\n",
    "        Divide the scenes based on the change in environment.\n",
    "        Make sure you stop creating when you conclude the story. Do not make up your own story.\n",
    "        Always use the names of the characters when you mention them, avoid any ambiguity.<</SYS>>\\n\n",
    "        Create a JSON file containing the description of dividing the story into scenes, and each scene containing the actions being performed throughout the story(which actors are performing what actions, what are their reactions etc.), along with the environment name(City, Location etc.). \n",
    "        Divide the scenes based on the change in environment.\n",
    "        Always use the names of the characters, to avoid ambiguity, describing all the characters that are taking part in any particular action.\n",
    "        {{#block hidden = True}}\n",
    "        This is the example format of the JSON-\n",
    "        {\"Scene 1\": {\n",
    "            \"Actions\": [\"John was sitting at the table\",\n",
    "                        \"John was having a chat with Smith\",\n",
    "                        \"Smith was jumping up and down the table\"\n",
    "                        ],\n",
    "            \"Env\" : \"Dining Room\"\n",
    "            },\n",
    "            \"Scene 2\": {\n",
    "            \"Actions\": [\"John was driving his car\",\n",
    "                        \"John met with an accident\",\n",
    "                        \"Smith in the passenger seat flew out of the car\"\n",
    "                        ],\n",
    "            \"Env\" : \"City\"\n",
    "            },\n",
    "        }\n",
    "        Create the JSON for this Story = \"\"\" + story + \"\"\" \n",
    "        [/INST]\n",
    "        Here is the JSON file in the requested format-\n",
    "        ```json\n",
    "        \"\"\" + row['json'] + \"```\"\n",
    "    train_dataset_list.append(prompt)"
   ]
  },
  {
   "cell_type": "code",
   "execution_count": 10,
   "id": "60781be6",
   "metadata": {},
   "outputs": [
    {
     "data": {
      "text/plain": [
       "['[INST]\\n        <<SYS>>\\n You are a bot that reads a story and returns a JSON file containing the actions performed throughout the story along with the environmented they take place in divided by scene.\\n        Divide the scenes based on the change in environment.\\n        Make sure you stop creating when you conclude the story. Do not make up your own story.\\n        Always use the names of the characters when you mention them, avoid any ambiguity.<</SYS>>\\n\\n        Create a JSON file containing the description of dividing the story into scenes, and each scene containing the actions being performed throughout the story(which actors are performing what actions, what are their reactions etc.), along with the environment name(City, Location etc.). \\n        Divide the scenes based on the change in environment.\\n        Always use the names of the characters, to avoid ambiguity, describing all the characters that are taking part in any particular action.\\n        {{#block hidden = True}}\\n        This is the example format of the JSON-\\n        {\"Scene 1\": {\\n            \"Actions\": [\"John was sitting at the table\",\\n                        \"John was having a chat with Smith\",\\n                        \"Smith was jumping up and down the table\"\\n                        ],\\n            \"Env\" : \"Dining Room\"\\n            },\\n            \"Scene 2\": {\\n            \"Actions\": [\"John was driving his car\",\\n                        \"John met with an accident\",\\n                        \"Smith in the passenger seat flew out of the car\"\\n                        ],\\n            \"Env\" : \"City\"\\n            },\\n        }\\n        Create the JSON for this Story = Once, in a small coastal town named Cresthaven, there stood a lighthouse that had been forgotten by time. It sat perched on a rocky cliff, overlooking the churning sea. Its once-white facade was now weathered and worn, and its light had not shone for years. Most of the town\\'s residents had never seen it in operation, and the lighthouse had become little more than a curious relic of the past.\\nCresthaven was a close-knit community, where everyone knew everyone else. Life was simple and predictable, revolving around the tides and the sea\\'s rhythms. The townsfolk fished, tended to their small farms, and lived a tranquil existence. The lighthouse, with its tall spire and wide balcony, had once been the pride of the town, guiding ships safely through treacherous waters. But as ships became more modern and relied on advanced navigation technology, the lighthouse was deemed obsolete.\\nThe town\\'s elder, a wise and stoic man named Elias, remembered when the lighthouse had been essential. He\\'d often regale the children with tales of daring rescues, guided by the brilliant light that pierced the darkest of storms. However, the younger generation viewed the lighthouse as little more than a relic, something they couldn\\'t be bothered with. They had their own interests and dreams, far removed from the town\\'s maritime history.\\nOne cool autumn evening, as the sun dipped below the horizon and the sky painted itself in shades of pink and orange, something strange happened in Cresthaven. A thick, otherworldly fog rolled in from the sea, blanketing the town in an eerie shroud. The fog obscured the ocean, disrupted the town\\'s fishing endeavors, and left everyone feeling uneasy.\\nElias, sensing something amiss, climbed the hill to the lighthouse. With an old, rusty key he\\'d kept all these years, he unlocked the heavy door and ascended the winding staircase to the lantern room. As he reached the top, he was stunned to see the lighthouse\\'s lamp shining brilliantly.\\nElias\\'s heart pounded, for he knew that he had not activated the lighthouse. Someone else had. The beam of light sliced through the fog, providing a guiding star to the lost ships in the murky sea. The town\\'s residents noticed the change and gathered on the cliff, staring in wonder as the lighthouse shone once more.\\nThe following day, the fog dissipated, and the town\\'s fishing boats returned with their catches. The fishermen, grateful for the guiding light, spoke of their newfound appreciation for the lighthouse. Word spread through Cresthaven, and gradually, the townspeople rediscovered their connection to the once-forgotten beacon.\\nIt was a young woman named Amelia who admitted to rekindling the lighthouse\\'s flame. She had recently moved to Cresthaven, seeking solace from the bustling city life she had grown tired of. Amelia had heard about the lighthouse\\'s history and felt drawn to its solemn presence.\\nAmelia was an artist, and she saw the lighthouse as a blank canvas. Over the weeks, she had dedicated herself to restoring the structure to its former glory. She had worked tirelessly, scraping off layers of old paint, fixing the rusted metal, and repainting the lighthouse\\'s exterior. And the piece de resistance was the lamp, which she had carefully cleaned and reactivated. She couldn\\'t resist the allure of the lighthouse\\'s mystique and had found a home in Cresthaven\\'s quaint community.\\nAs the lighthouse\\'s light continued to guide the way, the townspeople began to embrace it once more. They decided to organize a celebration to honor Amelia\\'s dedication and the return of their beacon. It had been decades since the town had thrown a celebration, but this event was an opportunity to rekindle the spirit of Cresthaven.\\nThe town buzzed with preparations as everyone pitched in. Decorations adorned the streets, and the town square was transformed into a festive gathering place. Musicians practiced their tunes, and children helped prepare lanterns to be lit in the evening. There was a sense of excitement in the air, the likes of which Cresthaven had not seen in years.\\nOn the night of the celebration, the entire town gathered at the lighthouse. The lanterns were hung around the cliff, casting a warm, golden glow. The musicians played lively tunes, and the scent of delicious food wafted through the air. Amelia stood on the lighthouse\\'s balcony, her heart filled with gratitude for the town\\'s support and newfound appreciation for her work.\\nElias, the elder, approached Amelia and said, \"You have brought the spirit of our town back to life, my dear. This lighthouse, once forgotten, is now a symbol of our community\\'s resilience and unity. Thank you.\"\\nAmelia smiled and replied, \"I\\'m just glad to be a part of this wonderful town. I found inspiration in the stories and history of Cresthaven, and I hope to be a part of its future.\"\\nThe celebration continued long into the night, with laughter, music, and dance. The townspeople rekindled old friendships and formed new connections, united by their shared love for Cresthaven and their gratitude for the lighthouse\\'s guiding light.\\nAs the years passed, the lighthouse remained a beacon of hope for Cresthaven. Amelia continued to care for it, and the townspeople cherished its presence. The once-forgotten lighthouse had become the heart of the town, a reminder of their shared history and a symbol of their strength in the face of adversity.\\nCresthaven prospered, attracting new residents who were drawn to the town\\'s sense of community and the lighthouse\\'s storied past. The lighthouse not only guided ships to safety but also served as a reminder that, even in the darkest of times, a light could be found to lead the way.\\nAmelia\\'s artistry had not only restored the lighthouse but had also brought life back to the town. She continued to create beautiful paintings and sculptures inspired by the sea, the lighthouse, and the town\\'s people. Her work was celebrated far and wide, and Cresthaven became known not only for its lighthouse but also as a haven for artists seeking inspiration.\\nElias, the town\\'s elder, had long since passed away, but his stories lived on in the memories of the town\\'s children. They listened to his tales of daring rescues and the lighthouse\\'s unwavering light, passing them down to the generations that followed.\\nAnd so, in the quiet coastal town of Cresthaven, the forgotten lighthouse found new life, becoming a symbol of resilience and unity, guiding not only ships but the hearts of its people. The light in the darkness, the lighthouse stood as a testament to the power of community and the enduring spirit of a small town with a big heart.\" \\n        [/INST]\\n        Here is the JSON file in the requested format-\\n        ```json\\n        {\\n  \"Scene 1\": {\\n    \"Actions\": [\\n      \"In a small coastal town named Cresthaven, there stood a lighthouse that had been forgotten by time. It sat perched on a rocky cliff, overlooking the churning sea.\",\\n      \"Most of the town\\'s residents had never seen it in operation, and the lighthouse had become little more than a curious relic of the past.\"\\n    ],\\n    \"Env\": \"Coastal\"\\n  },\\n  \"Scene 2\": {\\n    \"Actions\": [\\n      \"Cresthaven was a close-knit community, where everyone knew everyone else.\",\\n      \"Life was simple and predictable, revolving around the tides and the sea\\'s rhythms.\",\\n      \"The townsfolk fished, tended to their small farms, and lived a tranquil existence.\",\\n      \"The lighthouse had once been the pride of the town, guiding ships safely through treacherous waters, but it was now deemed obsolete.\"\\n    ],\\n    \"Env\": \"Town\"\\n  },\\n  \"Scene 3\": {\\n    \"Actions\": [\\n      \"The town\\'s elder, a wise and stoic man named Elias, remembered when the lighthouse had been essential.\",\\n      \"The younger generation viewed the lighthouse as little more than a relic, something they couldn\\'t be bothered with.\"\\n    ],\\n    \"Env\": \"Town\"\\n  },\\n  \"Scene 4\": {\\n    \"Actions\": [\\n      \"One cool autumn evening, as the sun dipped below the horizon and the sky painted itself in shades of pink and orange, something strange happened in Cresthaven.\",\\n      \"A thick, otherworldly fog rolled in from the sea, blanketing the town in an eerie shroud.\",\\n      \"Elias, sensing something amiss, climbed the hill to the lighthouse.\"\\n    ],\\n    \"Env\": \"Coastal\"\\n  },\\n  \"Scene 5\": {\\n    \"Actions\": [\\n      \"Elias unlocked the heavy door and ascended the winding staircase to the lantern room.\",\\n      \"As he reached the top, he was stunned to see the lighthouse\\'s lamp shining brilliantly.\",\\n      \"The beam of light sliced through the fog, providing a guiding star to the lost ships in the murky sea.\"\\n    ],\\n    \"Env\": \"Lighthouse\"\\n  },\\n  \"Scene 6\": {\\n    \"Actions\": [\\n      \"The following day, the fog dissipated, and the town\\'s fishing boats returned with their catches.\",\\n      \"The fishermen spoke of their newfound appreciation for the lighthouse.\"\\n    ],\\n    \"Env\": \"Coastal\"\\n  },\\n  \"Scene 7\": {\\n    \"Actions\": [\\n      \"It was a young woman named Amelia who admitted to rekindling the lighthouse\\'s flame.\",\\n      \"She had recently moved to Cresthaven, seeking solace from the bustling city life she had grown tired of.\"\\n    ],\\n    \"Env\": \"Town\"\\n  },\\n  \"Scene 8\": {\\n    \"Actions\": [\\n      \"Amelia was an artist, and she saw the lighthouse as a blank canvas.\",\\n      \"Over the weeks, she had dedicated herself to restoring the structure to its former glory.\"\\n    ],\\n    \"Env\": \"Lighthouse\"\\n  },\\n  \"Scene 9\": {\\n    \"Actions\": [\\n      \"The lighthouse\\'s light continued to guide the way.\",\\n      \"The townspeople decided to organize a celebration to honor Amelia\\'s dedication and the return of their beacon.\"\\n    ],\\n    \"Env\": \"Town\"\\n  },\\n  \"Scene 10\": {\\n    \"Actions\": [\\n      \"The town buzzed with preparations as everyone pitched in.\",\\n      \"There was a sense of excitement in the air, the likes of which Cresthaven had not seen in years.\"\\n    ],\\n    \"Env\": \"Town\"\\n  },\\n  \"Scene 11\": {\\n    \"Actions\": [\\n      \"On the night of the celebration, the entire town gathered at the lighthouse.\",\\n      \"Amelia stood on the lighthouse\\'s balcony, her heart filled with gratitude for the town\\'s support and newfound appreciation for her work.\"\\n    ],\\n    \"Env\": \"Lighthouse\"\\n  },\\n  \"Scene 12\": {\\n    \"Actions\": [\\n      \"Elias, the elder, approached Amelia and expressed his gratitude for her contributions to the town.\"\\n    ],\\n    \"Env\": \"Lighthouse\"\\n  },\\n  \"Scene 13\": {\\n    \"Actions\": [\\n      \"The celebration continued long into the night, with laughter, music, and dance.\"\\n    ],\\n    \"Env\": \"Lighthouse\"\\n  },\\n  \"Scene 14\": {\\n    \"Actions\": [\\n      \"As the years passed, the lighthouse remained a beacon of hope for Cresthaven.\"\\n    ],\\n    \"Env\": \"Coastal\"\\n  },\\n  \"Scene 15\": {\\n    \"Actions\": [\\n      \"Amelia\\'s artistry had not only restored the lighthouse but had also brought life back to the town.\"\\n    ],\\n    \"Env\": \"Town\"\\n  },\\n  \"Scene 16\": {\\n    \"Actions\": [\\n      \"Elias, the town\\'s elder, had long since passed away, but his stories lived on in the memories of the town\\'s children.\"\\n    ],\\n    \"Env\": \"Town\"\\n  },\\n  \"Scene 17\": {\\n    \"Actions\": [\\n      \"In the quiet coastal town of Cresthaven, the forgotten lighthouse found new life, becoming a symbol of resilience and unity.\"\\n    ],\\n    \"Env\": \"Coastal\"\\n  }\\n}```',\n",
       " '[INST]\\n        <<SYS>>\\n You are a bot that reads a story and returns a JSON file containing the actions performed throughout the story along with the environmented they take place in divided by scene.\\n        Divide the scenes based on the change in environment.\\n        Make sure you stop creating when you conclude the story. Do not make up your own story.\\n        Always use the names of the characters when you mention them, avoid any ambiguity.<</SYS>>\\n\\n        Create a JSON file containing the description of dividing the story into scenes, and each scene containing the actions being performed throughout the story(which actors are performing what actions, what are their reactions etc.), along with the environment name(City, Location etc.). \\n        Divide the scenes based on the change in environment.\\n        Always use the names of the characters, to avoid ambiguity, describing all the characters that are taking part in any particular action.\\n        {{#block hidden = True}}\\n        This is the example format of the JSON-\\n        {\"Scene 1\": {\\n            \"Actions\": [\"John was sitting at the table\",\\n                        \"John was having a chat with Smith\",\\n                        \"Smith was jumping up and down the table\"\\n                        ],\\n            \"Env\" : \"Dining Room\"\\n            },\\n            \"Scene 2\": {\\n            \"Actions\": [\"John was driving his car\",\\n                        \"John met with an accident\",\\n                        \"Smith in the passenger seat flew out of the car\"\\n                        ],\\n            \"Env\" : \"City\"\\n            },\\n        }\\n        Create the JSON for this Story = Title: \"The Chronicles of Lumina\"\\n\\nOnce upon a time, in the mystical realm of Lumina, where magic flowed through every living being and the sky shimmered with colors unseen in the mortal world, there lived a young sorceress named Seraphina. She was known far and wide for her extraordinary abilities, even among the extraordinary.\\n\\nSeraphina\\'s story began when she was just a child, her eyes already sparkling with the promise of great power. Her parents, themselves accomplished magic wielders, recognized her potential early. They nurtured her gifts, ensuring she was not just another powerful mage but a kind and responsible one.\\n\\nAs the years passed, Seraphina\\'s magic grew stronger and more vibrant, drawing attention from every corner of Lumina. Her compassionate nature endeared her to the magical creatures of the realm. Elves, fairies, and even the reclusive giants regarded her as a friend. She was, however, particularly close to a mischievous sprite named Puck.\\n\\nPuck had golden hair, sparkling emerald eyes, and a laugh that could outshine the sun. He was notorious for his pranks and mischief, but Seraphina\\'s friendship had tamed his wild spirit. They were inseparable, and together, they explored the secrets of Lumina.\\n\\nOne sunny morning, as they ventured deep into the Enchanted Forest, they discovered a hidden glen. Its beauty took their breath away. There, surrounded by luminous butterflies and glowing flowers, stood a shimmering pool of water. Its surface was a mirror, but it showed more than just one\\'s reflection; it revealed the deepest desires of one\\'s heart.\\n\\nSeraphina approached the pool with curiosity, but a nagging doubt held her back. Puck, on the other hand, couldn\\'t resist. As he gazed into the pool, his laughter dimmed, replaced by an expression of longing. A single tear rolled down his cheek, and he whispered something too soft for Seraphina to hear.\\n\\nWhen he stepped away, Seraphina demanded to know what he had seen, but Puck refused to speak of it. He insisted it was nothing, just a fleeting vision. However, Seraphina sensed something had changed in her friend.\\n\\nThe following weeks were filled with adventure and laughter, but Puck\\'s spirit had dimmed. He no longer devised pranks, and his laughter lacked its usual sparkle. Seraphina worried about her dear friend and suspected the magical pool had something to do with it. She decided to visit the pool herself.\\n\\nAs she gazed into the water, she saw a vision of herself, a vision of the power and knowledge she could attain. It was a seductive image, one that whispered promises of limitless potential. But as she reached out to touch the vision, she hesitated. Her true desire was not for power, but for Puck\\'s happiness to be restored.\\n\\nSeraphina turned away from the pool, leaving her vision behind. She searched for a way to help Puck but found herself entangled in a web of riddles and trials, set by ancient beings guarding the Enchanted Forest.\\n\\nEach challenge was more difficult than the last, testing her wisdom and strength. Along the way, she met mythical creatures, wise old spirits, and treacherous illusions. With each test, Seraphina grew wiser and stronger.\\n\\nAt last, she reached the heart of the Enchanted Forest and found the Guardian of the pool, a majestic unicorn with a coat of pure silver. The unicorn, sensing Seraphina\\'s noble intent, revealed the pool\\'s secret: it granted the desires of the heart, but at a price. Puck\\'s vision had been a yearning to be free from his mischievous nature, and in exchange, he had lost his laughter and mirth.\\n\\nDetermined to help her friend, Seraphina asked the unicorn for guidance. The wise creature directed her to a hidden grove where she could make an offering to release Puck from his desire. There, Seraphina offered her own laughter, her most precious gift, in exchange for Puck\\'s happiness.\\n\\nAs Seraphina\\'s laughter merged with Puck\\'s, a burst of light enveloped them both. Puck\\'s golden hair regained its sparkle, and his emerald eyes shone brighter than ever. He laughed, a sound like tinkling bells, and thanked Seraphina.\\n\\nWith their friendship rekindled, the two friends left the Enchanted Forest, determined to cherish the simple joys of life. They knew that true happiness could not be found in magical visions or endless power, but in the laughter, love, and friendship they shared.\\n\\nAnd so, the Chronicles of Lumina continued, with Seraphina and Puck spreading happiness and wisdom throughout the realm, a shining example of the magic of true friendship. \\n        [/INST]\\n        Here is the JSON file in the requested format-\\n        ```json\\n        \\n{\\n\\n    \"Scene 1\": {\"Actions\":[\"Seraphina was known far and wide for her extraordinary abilities\", \"Her parents, themselves accomplished magic wielders, recognized her potential early\", \"They nurtured her gifts\", \"Ensuring she was not just another powerful mage but a kind and responsible one\" ], \"Env\": \"City\" } ,\\n\\n    \"Scene 2\": {\"Actions\":[\"Puck had golden hair, sparkling emerald eyes, and a laugh that could outshine the sun\", \"He was notorious for his pranks and mischief\", \"But Seraphina\\'s friendship had tamed his wild spirit\", \"Together, they explored the secrets of Lumina\"  ], \"Env\": \"Forest\" } ,\\n\\n    \"Scene 3\": {\"Actions\":[\"They discovered a hidden glen\", \"Surrounded by luminous butterflies and glowing flowers\", \"Stood a shimmering pool of water\", \"Its surface was a mirror\", \"But it showed more than just one\\'s reflection; it revealed the deepest desires of one\\'s heart\"   ], \"Env\": \"Glen\" } ,\\n\\n    \"Scene 4\": {\"Actions\":[\"Seraphina approached the pool with curiosity\", \"But a nagging doubt held her back\", \"Puck, on the other hand, couldn\\'t resist\", \"As he gazed into the pool, his laughter dimmed\", \"And he whispered something too soft for Seraphina to hear\"    ], \"Env\": \"Pool\" } ,\\n\\n    \"Scene 5\": {\"Actions\":[\"Seraphina demanded to know what he had seen\", \"But Puck refused to speak of it\", \"He insisted it was nothing, just a fleeting vision\", \"But Seraphina sensed something had changed in her friend\"   ], \"Env\": \"Forest\" } ,\\n\\n    \"Scene 6\": {\"Actions\":[\"Seraphina searched for a way to help Puck\", \"But found herself entangled in a web of riddles and trials\", \"Set by ancient beings guarding the Enchanted Forest\"    ], \"Env\": \"Forest\" } ,\\n\\n    \"Scene 7\": {\"Actions\":[\"Each challenge was more difficult than the last\", \"Testing her wisdom and strength\", \"Along the way, she met mythical creatures\", \"Wise old spirits\", \"And treacherous illusions\"    ], \"Env\": \"Forest\" } ,\\n\\n    \"Scene 8\": {\"Actions\":[\"Seraphina grew wiser and stronger\", \"And finally reached the heart of the Enchanted Forest\", \"Where she found the Guardian of the pool\", \"A majestic unicorn with a coat of pure silver\"    ], \"Env\": \"Forest\" } ,\\n\\n    \"Scene 9\": {\"Actions\":[\"The unicorn, sensing Seraphina\\'s noble intent\", \"Revealed the pool\\'s secret\", \"That it granted the desires of the heart\", \"But at a price\"    ], \"Env\": \"Forest\" } ,\\n\\n    \"Scene 10\": {\"Actions\":[\"Seraphina asked the unicorn for guidance\", \"And the wise creature directed her to a hidden grove\", \"Where she could make an offering to release Puck from his desire\", \"And in exchange, she offered her own laughter\", \"Her most precious gift\"     ], \"Env\": \"Grove\"\\n}```']"
      ]
     },
     "execution_count": 10,
     "metadata": {},
     "output_type": "execute_result"
    }
   ],
   "source": [
    "train_dataset_list[0:2]"
   ]
  },
  {
   "cell_type": "markdown",
   "id": "66380d44",
   "metadata": {},
   "source": [
    "# Tokenize Dataset"
   ]
  },
  {
   "cell_type": "code",
   "execution_count": 11,
   "id": "c8a4f552",
   "metadata": {},
   "outputs": [],
   "source": [
    "train_encodings = tokenizer(train_dataset_list, truncation=True, padding=True, max_length=300, return_tensors='pt')\n",
    "#val_encodings = tokenizer(val_dataset, truncation=True, padding=True, max_length=300, return_tensors='pt')"
   ]
  },
  {
   "cell_type": "markdown",
   "id": "57170de7",
   "metadata": {},
   "source": [
    "# Convert to PyTorch"
   ]
  },
  {
   "cell_type": "code",
   "execution_count": 12,
   "id": "48eed75f",
   "metadata": {},
   "outputs": [],
   "source": [
    "class TextDataset(Dataset):\n",
    "    def __init__(self, encodings):\n",
    "        self.encodings = encodings\n",
    "\n",
    "    def __getitem__(self, idx):\n",
    "        item = {key: torch.tensor(val[idx]) for key, val in self.encodings.items()}\n",
    "        item[\"labels\"] = item[\"input_ids\"].clone()\n",
    "        return item\n",
    "\n",
    "    def __len__(self):\n",
    "        return len(self.encodings[\"input_ids\"])"
   ]
  },
  {
   "cell_type": "code",
   "execution_count": 13,
   "id": "a70aecc0",
   "metadata": {},
   "outputs": [],
   "source": [
    "train_dataset = TextDataset(train_encodings)\n",
    "#val_dataset = TextDataset(val_encodings)"
   ]
  },
  {
   "cell_type": "markdown",
   "id": "c181471d",
   "metadata": {},
   "source": [
    "# Define A Generate Function"
   ]
  },
  {
   "cell_type": "code",
   "execution_count": 14,
   "id": "da9896db",
   "metadata": {},
   "outputs": [],
   "source": [
    "def generate(input):\n",
    "    encoding = tokenizer(input, return_tensors=\"pt\").to(\"cuda:0\")\n",
    "    streamer = TextStreamer(tokenizer, skip_prompt = True, skip_special_tokens= True)\n",
    "    model.generate(input_ids=encoding.input_ids, streamer = streamer,attention_mask=encoding.attention_mask, max_new_tokens=4096, do_sample=True, temperature=0.000001, eos_token_id=tokenizer.eos_token_id, top_k = 0)\n"
   ]
  },
  {
   "cell_type": "markdown",
   "id": "3e4ba55e",
   "metadata": {},
   "source": [
    "# Training"
   ]
  },
  {
   "cell_type": "code",
   "execution_count": null,
   "id": "46d73fba",
   "metadata": {},
   "outputs": [],
   "source": [
    "trainer = transformers.Trainer(\n",
    "    model=model,\n",
    "    train_dataset=train_dataset,\n",
    "    #eval_dataset=val_dataset,\n",
    "    args=transformers.TrainingArguments(\n",
    "        num_train_epochs=10,\n",
    "        per_device_train_batch_size=16,\n",
    "        gradient_accumulation_steps=4,\n",
    "        warmup_ratio=0.05,\n",
    "        # max_steps=100,\n",
    "        learning_rate=2e-4,\n",
    "        fp16=True,\n",
    "        logging_steps=1,\n",
    "        output_dir=\"outputs\",\n",
    "        optim=\"paged_adamw_8bit\",\n",
    "        lr_scheduler_type='cosine',\n",
    "        report_to=none,\n",
    "    ),\n",
    "    data_collator=transformers.DataCollatorForLanguageModeling(tokenizer, mlm=False),\n",
    ")\n",
    "model.config.use_cache = False  # silence the warnings. Please re-enable for inference!\n",
    "trainer.train()"
   ]
  },
  {
   "cell_type": "markdown",
   "id": "a0eac17d",
   "metadata": {},
   "source": [
    "# Save the LoRA"
   ]
  },
  {
   "cell_type": "code",
   "execution_count": null,
   "id": "a363c0ff",
   "metadata": {},
   "outputs": [],
   "source": [
    "model.save_pretrained(\"fine-tuned-llama7b-10epochs\")"
   ]
  }
 ],
 "metadata": {
  "kernelspec": {
   "display_name": "Python 3 (ipykernel)",
   "language": "python",
   "name": "python3"
  },
  "language_info": {
   "codemirror_mode": {
    "name": "ipython",
    "version": 3
   },
   "file_extension": ".py",
   "mimetype": "text/x-python",
   "name": "python",
   "nbconvert_exporter": "python",
   "pygments_lexer": "ipython3",
   "version": "3.10.12"
  }
 },
 "nbformat": 4,
 "nbformat_minor": 5
}
