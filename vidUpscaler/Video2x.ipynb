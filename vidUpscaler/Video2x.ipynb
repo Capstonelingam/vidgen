{
  "cells": [
    {
      "cell_type": "code",
      "execution_count": null,
      "metadata": {
        "id": "8i87gJKgym7i"
      },
      "outputs": [],
      "source": []
    },
    {
      "cell_type": "code",
      "execution_count": 2,
      "metadata": {
        "id": "EmsFGcmKhiQg"
      },
      "outputs": [
        {
          "name": "stdout",
          "output_type": "stream",
          "text": [
            "[sudo] password for slv: "
          ]
        }
      ],
      "source": [
        "!sudo apt install ffmpeg\n",
        "!sudo apt install libmagic1 python3-yaml\n",
        "!sudo apt install libvulkan-dev\n",
        "!sudo pip install --user youtube-dl\n",
        "!sudo wget https://github.com/k4yt3x/video2x/archive/refs/tags/4.7.0.tar.gz\n",
        "!ls"
      ]
    },
    {
      "cell_type": "code",
      "execution_count": null,
      "metadata": {
        "id": "j_AddOssh3aV"
      },
      "outputs": [],
      "source": [
        "!tar -xvf 4.7.0.tar.gz\n",
        "!ls"
      ]
    },
    {
      "cell_type": "code",
      "execution_count": null,
      "metadata": {
        "id": "MCk0aYiGiEJt"
      },
      "outputs": [],
      "source": [
        "%cd video2x-4.7.0/src"
      ]
    },
    {
      "cell_type": "code",
      "execution_count": null,
      "metadata": {
        "id": "G_KvEBnuiVob"
      },
      "outputs": [],
      "source": [
        "!pip install -r /content/video2x-4.7.0/src/requirements.txt\n",
        "!rm -rf /content/video2x-4.7.0/src/video2x.yaml\n",
        "!wget -O /content/video2x-4.7.0/src/video2x.yaml https://raw.githubusercontent.com/lenardcarroll/video2x.yaml/main/video2x.yaml"
      ]
    },
    {
      "cell_type": "code",
      "execution_count": null,
      "metadata": {
        "id": "-Torzy_-igdm"
      },
      "outputs": [],
      "source": [
        "%cd ../.."
      ]
    },
    {
      "cell_type": "code",
      "execution_count": null,
      "metadata": {
        "id": "QMB6jVwDiib1"
      },
      "outputs": [],
      "source": [
        "!wget https://github.com/nihui/realsr-ncnn-vulkan/releases/download/20200818/realsr-ncnn-vulkan-20200818-linux.zip\n",
        "!unzip realsr-ncnn-vulkan-20200818-linux.zip\n",
        "!wget https://github.com/nihui/srmd-ncnn-vulkan/releases/download/20200818/srmd-ncnn-vulkan-20200818-linux.zip\n",
        "!unzip srmd-ncnn-vulkan-20200818-linux\n",
        "!wget https://github.com/nihui/waifu2x-ncnn-vulkan/releases/download/20200818/waifu2x-ncnn-vulkan-20200818-linux.zip\n",
        "!unzip waifu2x-ncnn-vulkan-20200818-linux.zip\n",
        "!rm *-linux.zip\n",
        "!pip install -U PyYAML"
      ]
    },
    {
      "cell_type": "code",
      "execution_count": null,
      "metadata": {
        "id": "kEhWPMisvg55"
      },
      "outputs": [],
      "source": [
        "#create directory where the images/videos are housed\n",
        "!mkdir drive/'MyDrive'/videoupscaling\n",
        "!mkdir drive/'MyDrive'/videoupscaling/Output"
      ]
    },
    {
      "cell_type": "code",
      "execution_count": null,
      "metadata": {
        "id": "5QHtel9fjLXd"
      },
      "outputs": [],
      "source": [
        "!python video2x-4.7.0/src/video2x.py --help"
      ]
    },
    {
      "cell_type": "code",
      "execution_count": null,
      "metadata": {
        "id": "96Vf2Yv1sRrv"
      },
      "outputs": [],
      "source": [
        "#Upscaling happens here!\n",
        "!python video2x-4.7.0/src/video2x.py -i /content/drive/'MyDrive'/videoupscaling/Bob_270.mp4 -o /content/drive/'MyDrive'/videoupscaling/Output/Bob_1080.mp4 -d srmd_ncnn_vulkan -r 4.0"
      ]
    }
  ],
  "metadata": {
    "accelerator": "GPU",
    "colab": {
      "private_outputs": true,
      "provenance": []
    },
    "kernelspec": {
      "display_name": "Python 3",
      "name": "python3"
    },
    "language_info": {
      "codemirror_mode": {
        "name": "ipython",
        "version": 3
      },
      "file_extension": ".py",
      "mimetype": "text/x-python",
      "name": "python",
      "nbconvert_exporter": "python",
      "pygments_lexer": "ipython3",
      "version": "3.10.12"
    }
  },
  "nbformat": 4,
  "nbformat_minor": 0
}
